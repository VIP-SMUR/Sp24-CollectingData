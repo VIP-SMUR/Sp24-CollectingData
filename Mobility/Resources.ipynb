{
 "cells": [
  {
   "cell_type": "markdown",
   "metadata": {},
   "source": [
    "#### Topics\n",
    "\n",
    "1. Walkability\n",
    "   - where can additional pedeestrian access be of use?\n",
    "2. Safety\n",
    "   - is the fastest rout from A to B the safest?\n",
    "3. Route optimization\n",
    "   - consider route factors such as slope, terrain, obstacles, pedestrian/non-pedestrian\n",
    "   - note: some route suggestions from Google Maps conain precomputed parameters, hence fast results\n",
    "4. Segregation\n",
    "   - highways can separate neighbourhoods and isolate low-income neighbourhoods\n",
    "   - can segregated areas be identified?\n",
    "5. Sustainability\n",
    "   - Mobility can be regarded as part of the life cycle assesment of buildings\n",
    "   - Example: Total employee commute time (resp. emissions) can differ depending on wether office building is outside the city or inside the city. Where should a new office building be built to minimize total employee commute time?\n",
    "\n",
    "\n",
    "#### Tools\n",
    "- [Urbano](https://urbano.io/) Plug-In: https://www.food4rhino.com/en/app/urbano \n",
    "- [Space Syntax](https://www.spacesyntax.online/)\n",
    "\n",
    "### Research \n",
    "- Machine Learning on Road Networks - [Graph Convolutional Networks for Road Networks](https://arxiv.org/abs/1908.11567) [Github] (https://github.com/TobiasSkovgaardJepsen/relational-fusion-networks/blob/master/Tutorial.ipynb)\n",
    "\n",
    "### Books\n",
    "- [The New Science of Scities](https://galileo-gatech.primo.exlibrisgroup.com/permalink/01GALI_GIT/1vc2ggp/alma9912596343402947)\n",
    "\n",
    "### Relevant research in Georgia Tech:\n",
    "- https://friendlycities.gatech.edu/publications/\n",
    "\n",
    "### Learning resources (e.g. for Rhino & Grasshopper)\n",
    "- https://www.linkedin.com/learning-login/ (login with you gatech.edu email)\n",
    "\n"
   ]
  }
 ],
 "metadata": {
  "language_info": {
   "name": "python"
  }
 },
 "nbformat": 4,
 "nbformat_minor": 2
}
